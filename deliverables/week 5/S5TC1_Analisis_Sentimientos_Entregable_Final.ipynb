{
  "cells": [
    {
      "cell_type": "markdown",
      "metadata": {
        "id": "N8PLD906oeUS"
      },
      "source": [
        "![image info](https://raw.githubusercontent.com/albahnsen/MIAD_ML_and_NLP/main/images/banner_1.png)"
      ]
    },
    {
      "cell_type": "markdown",
      "metadata": {
        "id": "cUjdBcJOoeUT"
      },
      "source": [
        "# Taller: Análisis de sentimientos y técnicas de NLP\n",
        "\n",
        "En este taller podrán poner en práctica sus conocimientos sobre las diferentes técnicas para el procesamiento de lenguaje natural. El taller está constituido por 5 puntos, en los cuales deberan seguir las intrucciones de cada numeral para su desarrollo."
      ]
    },
    {
      "cell_type": "markdown",
      "metadata": {
        "id": "LNsXnUsaoeUU"
      },
      "source": [
        "## Datos predicción sentimientos de viajeros en Twitter\n",
        "\n",
        "En este taller se usará el conjunto de datos de sentimientos sobre distintas aerolíneas de EE.UU. provenientes de Twitter. Cada observación contiene si el sentimiento de los tweets es positivo, neutral o negativo teniendo en cuenta distintas variables como aerolínea y las razones de los sentimientos negativos (como \"retraso en el vuelo\" o \"servicio grosero\"). El objetivo es predecir el sentimiento asociado a cada tweet. Para más detalles pueden visitar el siguiente enlace: [datos](https://www.kaggle.com/crowdflower/twitter-airline-sentiment)."
      ]
    },
    {
      "cell_type": "code",
      "execution_count": 1,
      "metadata": {
        "id": "uIWSpdP7oeUW"
      },
      "outputs": [],
      "source": [
        "import warnings\n",
        "warnings.filterwarnings('ignore')"
      ]
    },
    {
      "cell_type": "code",
      "execution_count": 2,
      "metadata": {
        "id": "n897McPxoeUX"
      },
      "outputs": [],
      "source": [
        "# Importación de librerías\n",
        "import pandas as pd\n",
        "import numpy as np\n",
        "%matplotlib inline\n",
        "import matplotlib.pyplot as plt"
      ]
    },
    {
      "cell_type": "code",
      "execution_count": 3,
      "metadata": {
        "colab": {
          "base_uri": "https://localhost:8080/",
          "height": 324
        },
        "id": "DSJ1zqhIoeUX",
        "outputId": "b2b48514-3b17-45f5-ff1c-9c546155d6eb"
      },
      "outputs": [
        {
          "output_type": "execute_result",
          "data": {
            "text/plain": [
              "                   airline_sentiment  airline_sentiment_confidence  \\\n",
              "tweet_id                                                             \n",
              "570306133677760513           neutral                        1.0000   \n",
              "570301130888122368          positive                        0.3486   \n",
              "570301083672813571           neutral                        0.6837   \n",
              "570301031407624196          negative                        1.0000   \n",
              "570300817074462722          negative                        1.0000   \n",
              "\n",
              "                   negativereason  negativereason_confidence         airline  \\\n",
              "tweet_id                                                                       \n",
              "570306133677760513            NaN                        NaN  Virgin America   \n",
              "570301130888122368            NaN                     0.0000  Virgin America   \n",
              "570301083672813571            NaN                        NaN  Virgin America   \n",
              "570301031407624196     Bad Flight                     0.7033  Virgin America   \n",
              "570300817074462722     Can't Tell                     1.0000  Virgin America   \n",
              "\n",
              "                   airline_sentiment_gold        name negativereason_gold  \\\n",
              "tweet_id                                                                    \n",
              "570306133677760513                    NaN     cairdin                 NaN   \n",
              "570301130888122368                    NaN    jnardino                 NaN   \n",
              "570301083672813571                    NaN  yvonnalynn                 NaN   \n",
              "570301031407624196                    NaN    jnardino                 NaN   \n",
              "570300817074462722                    NaN    jnardino                 NaN   \n",
              "\n",
              "                    retweet_count  \\\n",
              "tweet_id                            \n",
              "570306133677760513              0   \n",
              "570301130888122368              0   \n",
              "570301083672813571              0   \n",
              "570301031407624196              0   \n",
              "570300817074462722              0   \n",
              "\n",
              "                                                                 text  \\\n",
              "tweet_id                                                                \n",
              "570306133677760513                @VirginAmerica What @dhepburn said.   \n",
              "570301130888122368  @VirginAmerica plus you've added commercials t...   \n",
              "570301083672813571  @VirginAmerica I didn't today... Must mean I n...   \n",
              "570301031407624196  @VirginAmerica it's really aggressive to blast...   \n",
              "570300817074462722  @VirginAmerica and it's a really big bad thing...   \n",
              "\n",
              "                   tweet_coord              tweet_created tweet_location  \\\n",
              "tweet_id                                                                   \n",
              "570306133677760513         NaN  2015-02-24 11:35:52 -0800            NaN   \n",
              "570301130888122368         NaN  2015-02-24 11:15:59 -0800            NaN   \n",
              "570301083672813571         NaN  2015-02-24 11:15:48 -0800      Lets Play   \n",
              "570301031407624196         NaN  2015-02-24 11:15:36 -0800            NaN   \n",
              "570300817074462722         NaN  2015-02-24 11:14:45 -0800            NaN   \n",
              "\n",
              "                                 user_timezone  \n",
              "tweet_id                                        \n",
              "570306133677760513  Eastern Time (US & Canada)  \n",
              "570301130888122368  Pacific Time (US & Canada)  \n",
              "570301083672813571  Central Time (US & Canada)  \n",
              "570301031407624196  Pacific Time (US & Canada)  \n",
              "570300817074462722  Pacific Time (US & Canada)  "
            ],
            "text/html": [
              "\n",
              "  <div id=\"df-7f69a0ac-29ef-48d8-8ee7-cb940cddfccb\" class=\"colab-df-container\">\n",
              "    <div>\n",
              "<style scoped>\n",
              "    .dataframe tbody tr th:only-of-type {\n",
              "        vertical-align: middle;\n",
              "    }\n",
              "\n",
              "    .dataframe tbody tr th {\n",
              "        vertical-align: top;\n",
              "    }\n",
              "\n",
              "    .dataframe thead th {\n",
              "        text-align: right;\n",
              "    }\n",
              "</style>\n",
              "<table border=\"1\" class=\"dataframe\">\n",
              "  <thead>\n",
              "    <tr style=\"text-align: right;\">\n",
              "      <th></th>\n",
              "      <th>airline_sentiment</th>\n",
              "      <th>airline_sentiment_confidence</th>\n",
              "      <th>negativereason</th>\n",
              "      <th>negativereason_confidence</th>\n",
              "      <th>airline</th>\n",
              "      <th>airline_sentiment_gold</th>\n",
              "      <th>name</th>\n",
              "      <th>negativereason_gold</th>\n",
              "      <th>retweet_count</th>\n",
              "      <th>text</th>\n",
              "      <th>tweet_coord</th>\n",
              "      <th>tweet_created</th>\n",
              "      <th>tweet_location</th>\n",
              "      <th>user_timezone</th>\n",
              "    </tr>\n",
              "    <tr>\n",
              "      <th>tweet_id</th>\n",
              "      <th></th>\n",
              "      <th></th>\n",
              "      <th></th>\n",
              "      <th></th>\n",
              "      <th></th>\n",
              "      <th></th>\n",
              "      <th></th>\n",
              "      <th></th>\n",
              "      <th></th>\n",
              "      <th></th>\n",
              "      <th></th>\n",
              "      <th></th>\n",
              "      <th></th>\n",
              "      <th></th>\n",
              "    </tr>\n",
              "  </thead>\n",
              "  <tbody>\n",
              "    <tr>\n",
              "      <th>570306133677760513</th>\n",
              "      <td>neutral</td>\n",
              "      <td>1.0000</td>\n",
              "      <td>NaN</td>\n",
              "      <td>NaN</td>\n",
              "      <td>Virgin America</td>\n",
              "      <td>NaN</td>\n",
              "      <td>cairdin</td>\n",
              "      <td>NaN</td>\n",
              "      <td>0</td>\n",
              "      <td>@VirginAmerica What @dhepburn said.</td>\n",
              "      <td>NaN</td>\n",
              "      <td>2015-02-24 11:35:52 -0800</td>\n",
              "      <td>NaN</td>\n",
              "      <td>Eastern Time (US &amp; Canada)</td>\n",
              "    </tr>\n",
              "    <tr>\n",
              "      <th>570301130888122368</th>\n",
              "      <td>positive</td>\n",
              "      <td>0.3486</td>\n",
              "      <td>NaN</td>\n",
              "      <td>0.0000</td>\n",
              "      <td>Virgin America</td>\n",
              "      <td>NaN</td>\n",
              "      <td>jnardino</td>\n",
              "      <td>NaN</td>\n",
              "      <td>0</td>\n",
              "      <td>@VirginAmerica plus you've added commercials t...</td>\n",
              "      <td>NaN</td>\n",
              "      <td>2015-02-24 11:15:59 -0800</td>\n",
              "      <td>NaN</td>\n",
              "      <td>Pacific Time (US &amp; Canada)</td>\n",
              "    </tr>\n",
              "    <tr>\n",
              "      <th>570301083672813571</th>\n",
              "      <td>neutral</td>\n",
              "      <td>0.6837</td>\n",
              "      <td>NaN</td>\n",
              "      <td>NaN</td>\n",
              "      <td>Virgin America</td>\n",
              "      <td>NaN</td>\n",
              "      <td>yvonnalynn</td>\n",
              "      <td>NaN</td>\n",
              "      <td>0</td>\n",
              "      <td>@VirginAmerica I didn't today... Must mean I n...</td>\n",
              "      <td>NaN</td>\n",
              "      <td>2015-02-24 11:15:48 -0800</td>\n",
              "      <td>Lets Play</td>\n",
              "      <td>Central Time (US &amp; Canada)</td>\n",
              "    </tr>\n",
              "    <tr>\n",
              "      <th>570301031407624196</th>\n",
              "      <td>negative</td>\n",
              "      <td>1.0000</td>\n",
              "      <td>Bad Flight</td>\n",
              "      <td>0.7033</td>\n",
              "      <td>Virgin America</td>\n",
              "      <td>NaN</td>\n",
              "      <td>jnardino</td>\n",
              "      <td>NaN</td>\n",
              "      <td>0</td>\n",
              "      <td>@VirginAmerica it's really aggressive to blast...</td>\n",
              "      <td>NaN</td>\n",
              "      <td>2015-02-24 11:15:36 -0800</td>\n",
              "      <td>NaN</td>\n",
              "      <td>Pacific Time (US &amp; Canada)</td>\n",
              "    </tr>\n",
              "    <tr>\n",
              "      <th>570300817074462722</th>\n",
              "      <td>negative</td>\n",
              "      <td>1.0000</td>\n",
              "      <td>Can't Tell</td>\n",
              "      <td>1.0000</td>\n",
              "      <td>Virgin America</td>\n",
              "      <td>NaN</td>\n",
              "      <td>jnardino</td>\n",
              "      <td>NaN</td>\n",
              "      <td>0</td>\n",
              "      <td>@VirginAmerica and it's a really big bad thing...</td>\n",
              "      <td>NaN</td>\n",
              "      <td>2015-02-24 11:14:45 -0800</td>\n",
              "      <td>NaN</td>\n",
              "      <td>Pacific Time (US &amp; Canada)</td>\n",
              "    </tr>\n",
              "  </tbody>\n",
              "</table>\n",
              "</div>\n",
              "    <div class=\"colab-df-buttons\">\n",
              "\n",
              "  <div class=\"colab-df-container\">\n",
              "    <button class=\"colab-df-convert\" onclick=\"convertToInteractive('df-7f69a0ac-29ef-48d8-8ee7-cb940cddfccb')\"\n",
              "            title=\"Convert this dataframe to an interactive table.\"\n",
              "            style=\"display:none;\">\n",
              "\n",
              "  <svg xmlns=\"http://www.w3.org/2000/svg\" height=\"24px\" viewBox=\"0 -960 960 960\">\n",
              "    <path d=\"M120-120v-720h720v720H120Zm60-500h600v-160H180v160Zm220 220h160v-160H400v160Zm0 220h160v-160H400v160ZM180-400h160v-160H180v160Zm440 0h160v-160H620v160ZM180-180h160v-160H180v160Zm440 0h160v-160H620v160Z\"/>\n",
              "  </svg>\n",
              "    </button>\n",
              "\n",
              "  <style>\n",
              "    .colab-df-container {\n",
              "      display:flex;\n",
              "      gap: 12px;\n",
              "    }\n",
              "\n",
              "    .colab-df-convert {\n",
              "      background-color: #E8F0FE;\n",
              "      border: none;\n",
              "      border-radius: 50%;\n",
              "      cursor: pointer;\n",
              "      display: none;\n",
              "      fill: #1967D2;\n",
              "      height: 32px;\n",
              "      padding: 0 0 0 0;\n",
              "      width: 32px;\n",
              "    }\n",
              "\n",
              "    .colab-df-convert:hover {\n",
              "      background-color: #E2EBFA;\n",
              "      box-shadow: 0px 1px 2px rgba(60, 64, 67, 0.3), 0px 1px 3px 1px rgba(60, 64, 67, 0.15);\n",
              "      fill: #174EA6;\n",
              "    }\n",
              "\n",
              "    .colab-df-buttons div {\n",
              "      margin-bottom: 4px;\n",
              "    }\n",
              "\n",
              "    [theme=dark] .colab-df-convert {\n",
              "      background-color: #3B4455;\n",
              "      fill: #D2E3FC;\n",
              "    }\n",
              "\n",
              "    [theme=dark] .colab-df-convert:hover {\n",
              "      background-color: #434B5C;\n",
              "      box-shadow: 0px 1px 3px 1px rgba(0, 0, 0, 0.15);\n",
              "      filter: drop-shadow(0px 1px 2px rgba(0, 0, 0, 0.3));\n",
              "      fill: #FFFFFF;\n",
              "    }\n",
              "  </style>\n",
              "\n",
              "    <script>\n",
              "      const buttonEl =\n",
              "        document.querySelector('#df-7f69a0ac-29ef-48d8-8ee7-cb940cddfccb button.colab-df-convert');\n",
              "      buttonEl.style.display =\n",
              "        google.colab.kernel.accessAllowed ? 'block' : 'none';\n",
              "\n",
              "      async function convertToInteractive(key) {\n",
              "        const element = document.querySelector('#df-7f69a0ac-29ef-48d8-8ee7-cb940cddfccb');\n",
              "        const dataTable =\n",
              "          await google.colab.kernel.invokeFunction('convertToInteractive',\n",
              "                                                    [key], {});\n",
              "        if (!dataTable) return;\n",
              "\n",
              "        const docLinkHtml = 'Like what you see? Visit the ' +\n",
              "          '<a target=\"_blank\" href=https://colab.research.google.com/notebooks/data_table.ipynb>data table notebook</a>'\n",
              "          + ' to learn more about interactive tables.';\n",
              "        element.innerHTML = '';\n",
              "        dataTable['output_type'] = 'display_data';\n",
              "        await google.colab.output.renderOutput(dataTable, element);\n",
              "        const docLink = document.createElement('div');\n",
              "        docLink.innerHTML = docLinkHtml;\n",
              "        element.appendChild(docLink);\n",
              "      }\n",
              "    </script>\n",
              "  </div>\n",
              "\n",
              "\n",
              "<div id=\"df-6b8ecb8f-0ae2-40a2-bec1-2f66a2fe92c3\">\n",
              "  <button class=\"colab-df-quickchart\" onclick=\"quickchart('df-6b8ecb8f-0ae2-40a2-bec1-2f66a2fe92c3')\"\n",
              "            title=\"Suggest charts\"\n",
              "            style=\"display:none;\">\n",
              "\n",
              "<svg xmlns=\"http://www.w3.org/2000/svg\" height=\"24px\"viewBox=\"0 0 24 24\"\n",
              "     width=\"24px\">\n",
              "    <g>\n",
              "        <path d=\"M19 3H5c-1.1 0-2 .9-2 2v14c0 1.1.9 2 2 2h14c1.1 0 2-.9 2-2V5c0-1.1-.9-2-2-2zM9 17H7v-7h2v7zm4 0h-2V7h2v10zm4 0h-2v-4h2v4z\"/>\n",
              "    </g>\n",
              "</svg>\n",
              "  </button>\n",
              "\n",
              "<style>\n",
              "  .colab-df-quickchart {\n",
              "      --bg-color: #E8F0FE;\n",
              "      --fill-color: #1967D2;\n",
              "      --hover-bg-color: #E2EBFA;\n",
              "      --hover-fill-color: #174EA6;\n",
              "      --disabled-fill-color: #AAA;\n",
              "      --disabled-bg-color: #DDD;\n",
              "  }\n",
              "\n",
              "  [theme=dark] .colab-df-quickchart {\n",
              "      --bg-color: #3B4455;\n",
              "      --fill-color: #D2E3FC;\n",
              "      --hover-bg-color: #434B5C;\n",
              "      --hover-fill-color: #FFFFFF;\n",
              "      --disabled-bg-color: #3B4455;\n",
              "      --disabled-fill-color: #666;\n",
              "  }\n",
              "\n",
              "  .colab-df-quickchart {\n",
              "    background-color: var(--bg-color);\n",
              "    border: none;\n",
              "    border-radius: 50%;\n",
              "    cursor: pointer;\n",
              "    display: none;\n",
              "    fill: var(--fill-color);\n",
              "    height: 32px;\n",
              "    padding: 0;\n",
              "    width: 32px;\n",
              "  }\n",
              "\n",
              "  .colab-df-quickchart:hover {\n",
              "    background-color: var(--hover-bg-color);\n",
              "    box-shadow: 0 1px 2px rgba(60, 64, 67, 0.3), 0 1px 3px 1px rgba(60, 64, 67, 0.15);\n",
              "    fill: var(--button-hover-fill-color);\n",
              "  }\n",
              "\n",
              "  .colab-df-quickchart-complete:disabled,\n",
              "  .colab-df-quickchart-complete:disabled:hover {\n",
              "    background-color: var(--disabled-bg-color);\n",
              "    fill: var(--disabled-fill-color);\n",
              "    box-shadow: none;\n",
              "  }\n",
              "\n",
              "  .colab-df-spinner {\n",
              "    border: 2px solid var(--fill-color);\n",
              "    border-color: transparent;\n",
              "    border-bottom-color: var(--fill-color);\n",
              "    animation:\n",
              "      spin 1s steps(1) infinite;\n",
              "  }\n",
              "\n",
              "  @keyframes spin {\n",
              "    0% {\n",
              "      border-color: transparent;\n",
              "      border-bottom-color: var(--fill-color);\n",
              "      border-left-color: var(--fill-color);\n",
              "    }\n",
              "    20% {\n",
              "      border-color: transparent;\n",
              "      border-left-color: var(--fill-color);\n",
              "      border-top-color: var(--fill-color);\n",
              "    }\n",
              "    30% {\n",
              "      border-color: transparent;\n",
              "      border-left-color: var(--fill-color);\n",
              "      border-top-color: var(--fill-color);\n",
              "      border-right-color: var(--fill-color);\n",
              "    }\n",
              "    40% {\n",
              "      border-color: transparent;\n",
              "      border-right-color: var(--fill-color);\n",
              "      border-top-color: var(--fill-color);\n",
              "    }\n",
              "    60% {\n",
              "      border-color: transparent;\n",
              "      border-right-color: var(--fill-color);\n",
              "    }\n",
              "    80% {\n",
              "      border-color: transparent;\n",
              "      border-right-color: var(--fill-color);\n",
              "      border-bottom-color: var(--fill-color);\n",
              "    }\n",
              "    90% {\n",
              "      border-color: transparent;\n",
              "      border-bottom-color: var(--fill-color);\n",
              "    }\n",
              "  }\n",
              "</style>\n",
              "\n",
              "  <script>\n",
              "    async function quickchart(key) {\n",
              "      const quickchartButtonEl =\n",
              "        document.querySelector('#' + key + ' button');\n",
              "      quickchartButtonEl.disabled = true;  // To prevent multiple clicks.\n",
              "      quickchartButtonEl.classList.add('colab-df-spinner');\n",
              "      try {\n",
              "        const charts = await google.colab.kernel.invokeFunction(\n",
              "            'suggestCharts', [key], {});\n",
              "      } catch (error) {\n",
              "        console.error('Error during call to suggestCharts:', error);\n",
              "      }\n",
              "      quickchartButtonEl.classList.remove('colab-df-spinner');\n",
              "      quickchartButtonEl.classList.add('colab-df-quickchart-complete');\n",
              "    }\n",
              "    (() => {\n",
              "      let quickchartButtonEl =\n",
              "        document.querySelector('#df-6b8ecb8f-0ae2-40a2-bec1-2f66a2fe92c3 button');\n",
              "      quickchartButtonEl.style.display =\n",
              "        google.colab.kernel.accessAllowed ? 'block' : 'none';\n",
              "    })();\n",
              "  </script>\n",
              "</div>\n",
              "\n",
              "    </div>\n",
              "  </div>\n"
            ],
            "application/vnd.google.colaboratory.intrinsic+json": {
              "type": "dataframe",
              "variable_name": "tweets",
              "summary": "{\n  \"name\": \"tweets\",\n  \"rows\": 14640,\n  \"fields\": [\n    {\n      \"column\": \"tweet_id\",\n      \"properties\": {\n        \"dtype\": \"number\",\n        \"std\": 779111158481835,\n        \"min\": 567588278875213824,\n        \"max\": 570310600460525568,\n        \"num_unique_values\": 14485,\n        \"samples\": [\n          567917894144770049,\n          567813976492417024,\n          569243676594941953\n        ],\n        \"semantic_type\": \"\",\n        \"description\": \"\"\n      }\n    },\n    {\n      \"column\": \"airline_sentiment\",\n      \"properties\": {\n        \"dtype\": \"category\",\n        \"num_unique_values\": 3,\n        \"samples\": [\n          \"neutral\",\n          \"positive\",\n          \"negative\"\n        ],\n        \"semantic_type\": \"\",\n        \"description\": \"\"\n      }\n    },\n    {\n      \"column\": \"airline_sentiment_confidence\",\n      \"properties\": {\n        \"dtype\": \"number\",\n        \"std\": 0.16282995909867212,\n        \"min\": 0.335,\n        \"max\": 1.0,\n        \"num_unique_values\": 1023,\n        \"samples\": [\n          0.6723,\n          0.3551,\n          0.6498\n        ],\n        \"semantic_type\": \"\",\n        \"description\": \"\"\n      }\n    },\n    {\n      \"column\": \"negativereason\",\n      \"properties\": {\n        \"dtype\": \"category\",\n        \"num_unique_values\": 10,\n        \"samples\": [\n          \"Damaged Luggage\",\n          \"Can't Tell\",\n          \"Lost Luggage\"\n        ],\n        \"semantic_type\": \"\",\n        \"description\": \"\"\n      }\n    },\n    {\n      \"column\": \"negativereason_confidence\",\n      \"properties\": {\n        \"dtype\": \"number\",\n        \"std\": 0.3304397596377297,\n        \"min\": 0.0,\n        \"max\": 1.0,\n        \"num_unique_values\": 1410,\n        \"samples\": [\n          0.6677,\n          0.6622,\n          0.6905\n        ],\n        \"semantic_type\": \"\",\n        \"description\": \"\"\n      }\n    },\n    {\n      \"column\": \"airline\",\n      \"properties\": {\n        \"dtype\": \"category\",\n        \"num_unique_values\": 6,\n        \"samples\": [\n          \"Virgin America\",\n          \"United\",\n          \"American\"\n        ],\n        \"semantic_type\": \"\",\n        \"description\": \"\"\n      }\n    },\n    {\n      \"column\": \"airline_sentiment_gold\",\n      \"properties\": {\n        \"dtype\": \"category\",\n        \"num_unique_values\": 3,\n        \"samples\": [\n          \"negative\",\n          \"neutral\",\n          \"positive\"\n        ],\n        \"semantic_type\": \"\",\n        \"description\": \"\"\n      }\n    },\n    {\n      \"column\": \"name\",\n      \"properties\": {\n        \"dtype\": \"string\",\n        \"num_unique_values\": 7701,\n        \"samples\": [\n          \"smckenna719\",\n          \"thisAnneM\",\n          \"jmspool\"\n        ],\n        \"semantic_type\": \"\",\n        \"description\": \"\"\n      }\n    },\n    {\n      \"column\": \"negativereason_gold\",\n      \"properties\": {\n        \"dtype\": \"category\",\n        \"num_unique_values\": 13,\n        \"samples\": [\n          \"Customer Service Issue\\nLost Luggage\",\n          \"Late Flight\\nCancelled Flight\",\n          \"Late Flight\\nFlight Attendant Complaints\"\n        ],\n        \"semantic_type\": \"\",\n        \"description\": \"\"\n      }\n    },\n    {\n      \"column\": \"retweet_count\",\n      \"properties\": {\n        \"dtype\": \"number\",\n        \"std\": 0,\n        \"min\": 0,\n        \"max\": 44,\n        \"num_unique_values\": 18,\n        \"samples\": [\n          0,\n          1,\n          6\n        ],\n        \"semantic_type\": \"\",\n        \"description\": \"\"\n      }\n    },\n    {\n      \"column\": \"text\",\n      \"properties\": {\n        \"dtype\": \"string\",\n        \"num_unique_values\": 14427,\n        \"samples\": [\n          \"@JetBlue so technically I could drive to JFK now and put in. Request for tomorrow's flight?\",\n          \"@united why I won't check my carry on. Watched a handler throw this bag -- miss the conveyer belt -- sat there 10 min http://t.co/lyoocx5mSH\",\n          \"@SouthwestAir you guys are so clever \\ud83d\\ude03 http://t.co/qn5odUGFqK\"\n        ],\n        \"semantic_type\": \"\",\n        \"description\": \"\"\n      }\n    },\n    {\n      \"column\": \"tweet_coord\",\n      \"properties\": {\n        \"dtype\": \"category\",\n        \"num_unique_values\": 832,\n        \"samples\": [\n          \"[40.04915451, -75.10364317]\",\n          \"[32.97609561, -96.53349238]\",\n          \"[26.37852293, -81.78472152]\"\n        ],\n        \"semantic_type\": \"\",\n        \"description\": \"\"\n      }\n    },\n    {\n      \"column\": \"tweet_created\",\n      \"properties\": {\n        \"dtype\": \"object\",\n        \"num_unique_values\": 14247,\n        \"samples\": [\n          \"2015-02-23 07:40:55 -0800\",\n          \"2015-02-21 16:20:09 -0800\",\n          \"2015-02-21 21:33:21 -0800\"\n        ],\n        \"semantic_type\": \"\",\n        \"description\": \"\"\n      }\n    },\n    {\n      \"column\": \"tweet_location\",\n      \"properties\": {\n        \"dtype\": \"category\",\n        \"num_unique_values\": 3081,\n        \"samples\": [\n          \"Oakland, California\",\n          \"Beverly Hills, CA\",\n          \"Austin, TX/NY, NY\"\n        ],\n        \"semantic_type\": \"\",\n        \"description\": \"\"\n      }\n    },\n    {\n      \"column\": \"user_timezone\",\n      \"properties\": {\n        \"dtype\": \"category\",\n        \"num_unique_values\": 85,\n        \"samples\": [\n          \"Helsinki\",\n          \"Eastern Time (US & Canada)\",\n          \"America/Detroit\"\n        ],\n        \"semantic_type\": \"\",\n        \"description\": \"\"\n      }\n    }\n  ]\n}"
            }
          },
          "metadata": {},
          "execution_count": 3
        }
      ],
      "source": [
        "# Lectura de la información de archivo .zip\n",
        "tweets = pd.read_csv('https://raw.githubusercontent.com/albahnsen/MIAD_ML_and_NLP/main/datasets/Tweets.zip', index_col=0)\n",
        "\n",
        "# Visualización dataset\n",
        "tweets.head()"
      ]
    },
    {
      "cell_type": "code",
      "execution_count": 4,
      "metadata": {
        "colab": {
          "base_uri": "https://localhost:8080/"
        },
        "id": "4VKc0lN7oeUZ",
        "outputId": "7dea83f6-0f73-4e07-b6c6-da068e3d4350"
      },
      "outputs": [
        {
          "output_type": "execute_result",
          "data": {
            "text/plain": [
              "(14640, 14)"
            ]
          },
          "metadata": {},
          "execution_count": 4
        }
      ],
      "source": [
        "# Impresión tamaño del cojunto de datos\n",
        "tweets.shape"
      ]
    },
    {
      "cell_type": "markdown",
      "metadata": {
        "id": "L42enAruoeUZ"
      },
      "source": [
        "### Análisis descriptivo"
      ]
    },
    {
      "cell_type": "code",
      "execution_count": 5,
      "metadata": {
        "colab": {
          "base_uri": "https://localhost:8080/"
        },
        "id": "lK56361ZoeUZ",
        "outputId": "86ffbc8f-872b-417e-cc4f-84637fb474ca"
      },
      "outputs": [
        {
          "output_type": "execute_result",
          "data": {
            "text/plain": [
              "airline_sentiment\n",
              "negative    9178\n",
              "neutral     3099\n",
              "positive    2363\n",
              "Name: count, dtype: int64"
            ]
          },
          "metadata": {},
          "execution_count": 5
        }
      ],
      "source": [
        "# Cuenta de tweets por cada sentimiento\n",
        "tweets['airline_sentiment'].value_counts()"
      ]
    },
    {
      "cell_type": "code",
      "execution_count": 6,
      "metadata": {
        "colab": {
          "base_uri": "https://localhost:8080/"
        },
        "id": "EshXFqofoeUa",
        "outputId": "2feb1140-fbaf-4c13-ade8-62e8794a82e0"
      },
      "outputs": [
        {
          "output_type": "execute_result",
          "data": {
            "text/plain": [
              "airline\n",
              "United            3822\n",
              "US Airways        2913\n",
              "American          2759\n",
              "Southwest         2420\n",
              "Delta             2222\n",
              "Virgin America     504\n",
              "Name: count, dtype: int64"
            ]
          },
          "metadata": {},
          "execution_count": 6
        }
      ],
      "source": [
        "# Cuenta de tweets por cada aerolínea\n",
        "tweets['airline'].value_counts()"
      ]
    },
    {
      "cell_type": "code",
      "execution_count": 7,
      "metadata": {
        "colab": {
          "base_uri": "https://localhost:8080/",
          "height": 582
        },
        "id": "tEGXzHx3oeUa",
        "outputId": "de1539fc-1f74-4419-abed-f714dc2a178e"
      },
      "outputs": [
        {
          "output_type": "execute_result",
          "data": {
            "text/plain": [
              "<Axes: title={'center': 'Sentiminetos por aerolínea'}, xlabel='airline'>"
            ]
          },
          "metadata": {},
          "execution_count": 7
        },
        {
          "output_type": "display_data",
          "data": {
            "text/plain": [
              "<Figure size 1000x600 with 1 Axes>"
            ],
            "image/png": "[encoded data removed]"
          },
          "metadata": {}
        }
      ],
      "source": [
        "# Plot con cuenta de tweets por cada aerolínea y sentimiento\n",
        "pd.crosstab(index = tweets[\"airline\"],columns = tweets[\"airline_sentiment\"]).plot(kind='bar',figsize=(10, 6),alpha=0.5,rot=0,stacked=True,title=\"Sentiminetos por aerolínea\")"
      ]
    },
    {
      "cell_type": "markdown",
      "metadata": {
        "id": "x7XHM87IoeUb"
      },
      "source": [
        "### Liberias y Variables de interés y predicción"
      ]
    },
    {
      "cell_type": "code",
      "execution_count": 9,
      "metadata": {
        "colab": {
          "base_uri": "https://localhost:8080/"
        },
        "id": "4uOstfwpoeUb",
        "outputId": "b7185484-69c9-4a59-b94d-9c06a58dd6e2"
      },
      "outputs": [
        {
          "output_type": "stream",
          "name": "stdout",
          "text": [
            "Collecting scikit-optimize\n",
            "  Downloading scikit_optimize-0.10.1-py2.py3-none-any.whl (107 kB)\n",
            "\u001b[2K     \u001b[90m━━━━━━━━━━━━━━━━━━━━━━━━━━━━━━━━━━━━━━━━\u001b[0m \u001b[32m107.7/107.7 kB\u001b[0m \u001b[31m2.1 MB/s\u001b[0m eta \u001b[36m0:00:00\u001b[0m\n",
            "\u001b[?25hRequirement already satisfied: joblib>=0.11 in /usr/local/lib/python3.10/dist-packages (from scikit-optimize) (1.4.0)\n",
            "Collecting pyaml>=16.9 (from scikit-optimize)\n",
            "  Downloading pyaml-24.4.0-py3-none-any.whl (24 kB)\n",
            "Requirement already satisfied: numpy>=1.20.3 in /usr/local/lib/python3.10/dist-packages (from scikit-optimize) (1.25.2)\n",
            "Requirement already satisfied: scipy>=1.1.0 in /usr/local/lib/python3.10/dist-packages (from scikit-optimize) (1.11.4)\n",
            "Requirement already satisfied: scikit-learn>=1.0.0 in /usr/local/lib/python3.10/dist-packages (from scikit-optimize) (1.2.2)\n",
            "Requirement already satisfied: packaging>=21.3 in /usr/local/lib/python3.10/dist-packages (from scikit-optimize) (24.0)\n",
            "Requirement already satisfied: PyYAML in /usr/local/lib/python3.10/dist-packages (from pyaml>=16.9->scikit-optimize) (6.0.1)\n",
            "Requirement already satisfied: threadpoolctl>=2.0.0 in /usr/local/lib/python3.10/dist-packages (from scikit-learn>=1.0.0->scikit-optimize) (3.5.0)\n",
            "Installing collected packages: pyaml, scikit-optimize\n",
            "Successfully installed pyaml-24.4.0 scikit-optimize-0.10.1\n"
          ]
        }
      ],
      "source": [
        "from sklearn.model_selection import train_test_split, cross_val_score,GridSearchCV\n",
        "from sklearn.feature_extraction.text import CountVectorizer, TfidfVectorizer\n",
        "from sklearn.ensemble import RandomForestClassifier\n",
        "from nltk.stem.snowball import SnowballStemmer\n",
        "from nltk.stem import WordNetLemmatizer\n",
        "from sklearn.metrics import accuracy_score\n",
        "from nltk import word_tokenize\n",
        "import nltk\n",
        "! pip install scikit-optimize\n",
        "from skopt import BayesSearchCV\n",
        "from skopt.space import Integer, Real, Categorical"
      ]
    },
    {
      "cell_type": "code",
      "execution_count": 10,
      "metadata": {
        "id": "F_7uUZ9WoeUc"
      },
      "outputs": [],
      "source": [
        "# Separación de variables predictoras (X) y de variable de interés (y)\n",
        "X = tweets['text']\n",
        "y = tweets['airline_sentiment'].map({'negative':-1,'neutral':0,'positive':1})"
      ]
    },
    {
      "cell_type": "code",
      "execution_count": 11,
      "metadata": {
        "id": "_gW4fmI0oeUc"
      },
      "outputs": [],
      "source": [
        "# Separación de datos en set de entrenamiento y test\n",
        "X_train, X_test, y_train, y_test = train_test_split(X, y, test_size=0.33, random_state=42)"
      ]
    },
    {
      "cell_type": "markdown",
      "metadata": {
        "id": "qOMJ9SRQoeUd"
      },
      "source": [
        "### Punto 1 - Uso de CountVectorizer\n",
        "\n",
        "En la celda 1 creen un modelo de random forest con la libreria sklearn que prediga el sentimiento de los tweets usando los set de entrenamiento y test definidos anteriormente. Usen la función **CountVectorizer** y presenten el desempeño del modelo con la métrica del acurracy.\n",
        "\n",
        "Recuerden que el preprocesamiento que se haga sobre los datos de entrenamiento  (*.fit_transform()*) deben ser aplicado al set de test (*.transform()*)."
      ]
    },
    {
      "cell_type": "code",
      "execution_count": 12,
      "metadata": {
        "colab": {
          "base_uri": "https://localhost:8080/"
        },
        "id": "VEU-ZS48oeUd",
        "outputId": "8badc916-e1a6-4b46-da51-9ad90e7b27fe"
      },
      "outputs": [
        {
          "output_type": "stream",
          "name": "stdout",
          "text": [
            "X_train_vec Shape:  (9808, 12056)\n"
          ]
        }
      ],
      "source": [
        "# Celda 1\n",
        "## Transformar datos usanso CountVectorizer\n",
        "vec = CountVectorizer()\n",
        "X_train_vec = vec.fit_transform(X_train)\n",
        "X_test_vec = vec.transform(X_test)\n",
        "\n",
        "print(\"X_train_vec Shape: \", X_train_vec.shape)"
      ]
    },
    {
      "cell_type": "code",
      "execution_count": 13,
      "metadata": {
        "id": "FiZYRMCGoeUd"
      },
      "outputs": [],
      "source": [
        "## Calibrar el modelo usando BayesianSearch()\n",
        "def CalibrarModelo_BYS(XTrain, yTrain, scoring='accuracy', n_iter=50):\n",
        "    param_grid = {\n",
        "        'max_features': Integer(1, 1000), #['log2', 'sqrt'], #['auto', 'sqrt', 'log2'],\n",
        "        'max_depth': (5, 500), #Integer(5, 300),  # Valores para probar max_depth\n",
        "        'n_estimators': Integer(500, 3000), #[x * 100 for x in range(5, 15)]\n",
        "        'min_samples_leaf': Integer(1, 100)\n",
        "    }\n",
        "\n",
        "    model = RandomForestClassifier(random_state=0)\n",
        "    grid_search = BayesSearchCV(estimator=model,  search_spaces=param_grid, n_iter=n_iter, cv=2, scoring=scoring, n_jobs=-1, verbose=3)\n",
        "    grid_search.fit(XTrain, yTrain)\n",
        "\n",
        "    print(\"Mejores parámetros:\", grid_search.best_params_)\n",
        "    print(\"Mejor score de validación cruzada (accuracy):\", grid_search.best_score_)\n",
        "\n",
        "    return (grid_search.best_params_, grid_search.best_score_)\n",
        "\n",
        "#calibrar_modelo = CalibrarModelo_BYS(X_train_vec, y_train, n_iter=20)\n",
        "\n",
        "#Mejores parámetros: OrderedDict([('max_depth', 11), ('max_features', 'log2'), ('n_estimators', 800)])\n",
        "#Mejor score de validación cruzada (accuracy): 0.6212275693311582\n",
        "\n",
        "#Mejores parámetros: OrderedDict([('max_depth', 296), ('max_features', 556), ('min_samples_leaf', 1), ('n_estimators', 500)])\n",
        "#Mejor score de validación cruzada (accuracy): 0.7435766721044046\n",
        "\n",
        "#Mejores parámetros: OrderedDict([('max_depth', 20), ('max_features', 1000), ('min_samples_leaf', 1), ('n_estimators', 500)])\n",
        "#Mejor score de validación cruzada (accuracy): 0.7202283849918434"
      ]
    },
    {
      "cell_type": "code",
      "execution_count": 14,
      "metadata": {
        "colab": {
          "base_uri": "https://localhost:8080/"
        },
        "id": "6-WEd8t8oeUe",
        "outputId": "10fe29a4-6cc5-4805-cfd8-70b4cfbb970a"
      },
      "outputs": [
        {
          "output_type": "stream",
          "name": "stdout",
          "text": [
            "Accuracy promedio en train CV=2 0.7435766721044046\n",
            "Accuracy del modelo en los datos de prueba: 0.7711092715231788\n",
            "Profunidad promedio de los árboles:  151.128\n",
            "Promedio de nodos terminales:  2487.716\n"
          ]
        }
      ],
      "source": [
        "# Crear el modelo con los mejores parámetros encontrados.\n",
        "modelo = RandomForestClassifier(random_state=0, max_depth=296, max_features=556, min_samples_leaf=1, n_estimators=500)\n",
        "\n",
        "# Aplicar validación cruzada y calcular métrica de desempeño del modelo\n",
        "cv_scores = cross_val_score(modelo, X_train_vec, y_train, cv=2, scoring='accuracy')\n",
        "accuracy_mean = cv_scores.mean()\n",
        "print(\"Accuracy promedio en train CV=2\", accuracy_mean)\n",
        "\n",
        "modelo.fit(X_train_vec, y_train)\n",
        "y_pred_test = modelo.predict(X_test_vec)\n",
        "test_accuracy = accuracy_score(y_test, y_pred_test)\n",
        "\n",
        "print(f\"Accuracy del modelo en los datos de prueba: {test_accuracy}\")\n",
        "\n",
        "# Estimar la complejidad del modelo creado\n",
        "trees = modelo.estimators_\n",
        "depths = [tree.tree_.max_depth for tree in trees]\n",
        "average_depth = sum(depths) / len(depths)\n",
        "print(\"Profunidad promedio de los árboles: \", average_depth)\n",
        "\n",
        "leaf_counts = [tree.tree_.n_leaves for tree in trees]\n",
        "average_leaf_count = sum(leaf_counts) / len(leaf_counts)\n",
        "\n",
        "print(\"Promedio de nodos terminales: \", average_leaf_count)\n",
        "\n",
        "# Guardar resultados\n",
        "averages_accuracy, averages_depth, averages_leaf, models_name = [], [], [], []\n",
        "averages_accuracy.append(test_accuracy)\n",
        "averages_depth.append(average_depth)\n",
        "averages_leaf.append(average_leaf_count)\n",
        "models_name.append('CountVectorizer')"
      ]
    },
    {
      "cell_type": "markdown",
      "metadata": {
        "id": "Yp3JUGj0oeUe"
      },
      "source": [
        "**Descripción del procedimiento**\n",
        "> * Se realiza la transformación de los datos usanso CountVectorizer, tanto para los datos de entrenamiento como pruebas.\n",
        "> * Se calibra el modelo de predicción RandomForestClassifier utilizando la técnica de BayesSearchCV para los párametros 'max_features', 'max_depth', 'n_estimators', 'min_samples_leaf’; utilizando validación cruzada (CV=2) y entre 10 y 20 iteracciones para encontrar el mejor modelo. Utilizamos CV=2 en este y en los procesos subsecuentes con el objeto de realizar la validación cruzada, sin incurrir en mayor demanda computacional y reducir el tiempo de entrenamiento de los modelos, a fin de no afectar el tiempo de ejecución de este taller.\n",
        "> * Se ejecuta el modelo de calibración en al menos tres ocasiones con rangos diferentes en cada uno de los parámetros. Los mejores parámetros encontrados fueron: max_depth=296, max_features=556, min_samples_leaf=1, n_estimators=500\n",
        "> * Se crea la instancia del modelo de RandomForest con los mejores parámetros encontrados, se entrena el modelo usando cross validation, se obtienen las predicciones en los datos de pruebas, y se calcula la exactitud de estas.\n",
        "> * Se realiza la estimación de la profundidad y el número de nodos promedio de los árboles, encontrando que se crea un modelo de árboles muy complejo con una profundidad promedio mayor a 150 y más de 2400 nodos terminales.\n",
        "\n",
        "**Conclusiones**\n",
        "> + La transformación de los datos crea 12056 predictores.\n",
        "> + En los datos de entrenamiento la precisión obtenida fue menor a la obtenida en los datos de prueba lo que es un indicador indirecto de que el modelo no se sobreajusto.\n",
        "> + La precisión del modelo en los datos de prueba fue de 0.7711, es decir que el modelo acierta el 77% de las clases predichas.\n",
        "> + En este set de datos, con la transformación aplicada y para este modelo de predicción, el parámetro con mayor incidencia en el poder predictivo del modelo fue la profundidad de los árboles, lo cual evidenciamos cuando limitamos el rango de este parámetro en el espacio de busqueda."
      ]
    },
    {
      "cell_type": "markdown",
      "metadata": {
        "id": "26ZSzPzJoeUe"
      },
      "source": [
        "### Punto 2 - Eliminación de Stopwords\n",
        "\n",
        "En la celda 2 creen un modelo de random forest con la libreria sklearn que prediga el sentimiento de los tweets usando los set de entrenamiento y test definidos anteriormente. Usen la función CountVectorizer, **eliminen stopwords** y presenten el desempeño del modelo con la métrica del acurracy.\n",
        "\n",
        "Recuerden que el preprocesamiento que se haga sobre los datos de entrenamiento  (*.fit_transform()*) deben ser aplicado al set de test (*.transform()*)."
      ]
    },
    {
      "cell_type": "code",
      "execution_count": 15,
      "metadata": {
        "colab": {
          "base_uri": "https://localhost:8080/"
        },
        "id": "K4Kc0bj1oeUe",
        "outputId": "c16cab05-d30f-4829-8233-c94eaedbf73d"
      },
      "outputs": [
        {
          "output_type": "stream",
          "name": "stdout",
          "text": [
            "Palabras elminadas:  frozenset({'neither', 'back', 'being', 'any', 'sometime', 'front', 'hereafter', 'wherever', 'formerly', 'same', 'from', 'less', 'into', 'per', 'get', 'thin', 'con', 'name', 'empty', 'becomes', 'has', 'why', 'cant', 'whoever', 'everything', 'became', 'herself', 'anyhow', 'above', 'onto', 'would', 'and', 'still', 'between', 'un', 'another', 'against', 'because', 'so', 'always', 'been', 'take', 'sometimes', 'ever', 'of', 'both', 'latter', 'in', 'indeed', 'eleven', 'its', 'much', 'off', 'twenty', 'sixty', 'towards', 'themselves', 'across', 'describe', 'herein', 'there', 'somewhere', 'yet', 'around', 'here', 'therein', 'however', 'amongst', 'move', 'whether', 'those', 'thus', 'must', 'can', 'put', 'call', 'hers', 'seems', 'without', 'eg', 'full', 'itself', 'whom', 'ltd', 'out', 'other', 'the', 'although', 'me', 'yours', 'nor', 'seem', 'thereafter', 'whereafter', 'fill', 'should', 'others', 'alone', 'namely', 'or', 'six', 'yourself', 'often', 'below', 'own', 'not', 'though', 'found', 'up', 'i', 'all', 'ours', 'via', 'hundred', 'but', 'give', 'nevertheless', 'yourselves', 'detail', 'see', 'whence', 'thereupon', 'please', 'twelve', 'us', 'whole', 'her', 'on', 'someone', 'am', 'if', 'fifteen', 'anything', 'such', 'almost', 'during', 'she', 'many', 'fifty', 'somehow', 'last', 'down', 'are', 'done', 'hereupon', 'anywhere', 'this', 'couldnt', 'well', 'is', 'which', 'what', 'four', 'mine', 'by', 'mill', 'now', 'among', 'otherwise', 'anyone', 'about', 'behind', 'as', 'whenever', 'never', 'again', 'their', 'afterwards', 'sincere', 'will', 'we', 'seeming', 'it', 'top', 'have', 'once', 'within', 'wherein', 'whatever', 'part', 'he', 'noone', 'beforehand', 'latterly', 'our', 'third', 'five', 'them', 'none', 'nowhere', 'to', 'beyond', 'may', 'bottom', 'an', 'until', 'meanwhile', 'with', 'be', 'whereupon', 'even', 'fire', 'ten', 'former', 'do', 'one', 'perhaps', 'when', 'very', 'seemed', 'you', 'few', 'forty', 'while', 'amount', 'cannot', 'too', 'had', 'three', 'whereas', 'a', 'upon', 'everyone', 'under', 'beside', 'moreover', 'enough', 'ourselves', 'over', 'else', 'de', 'hasnt', 'serious', 'either', 'mostly', 'myself', 'therefore', 'no', 'whither', 'except', 'elsewhere', 'etc', 'they', 'together', 'further', 'also', 'through', 'at', 'already', 'inc', 'might', 'were', 'thereby', 'co', 'first', 'made', 'himself', 'thence', 'several', 'toward', 'something', 'where', 'your', 'after', 'become', 'show', 'more', 'who', 'that', 'every', 'these', 'besides', 'along', 'whereby', 'rather', 'keep', 'next', 'how', 'thick', 'throughout', 'side', 'system', 'some', 'most', 'bill', 'due', 'before', 'was', 'each', 'interest', 'hence', 'his', 'becoming', 'for', 'go', 'thru', 'least', 'whose', 'than', 'since', 'nothing', 'anyway', 'only', 'ie', 'cry', 'my', 'nobody', 'two', 'then', 'amoungst', 'eight', 'him', 're', 'nine', 'hereby', 'could', 'find', 'everywhere'})\n",
            "X_train_vec_stop Shape: (9808, 11777)\n"
          ]
        }
      ],
      "source": [
        "# Celda 2\n",
        "vec_stop = CountVectorizer(stop_words='english')\n",
        "\n",
        "X_train_vec_stop = vec_stop.fit_transform(X_train)\n",
        "X_test_vec_stop= vec_stop.transform(X_test)\n",
        "\n",
        "print('Palabras elminadas: ', vec_stop.get_stop_words())\n",
        "print('X_train_vec_stop Shape:', X_train_vec_stop.shape)\n"
      ]
    },
    {
      "cell_type": "code",
      "execution_count": 16,
      "metadata": {
        "id": "VpFeb7EvoeUf"
      },
      "outputs": [],
      "source": [
        "## Calibrar el modelo con los nuevos predictores\n",
        "#calibrar_modelo = CalibrarModelo_BYS(X_train_vec_stop, y_train, n_iter=20)\n",
        "\n",
        "#Mejores parámetros: OrderedDict([('max_depth', 301), ('max_features', 500), ('min_samples_leaf', 4), ('n_estimators', 2709)])\n",
        "#Mejor score de validación cruzada (accuracy): 0.7166598694942904\n",
        "\n",
        "#Mejores parámetros: OrderedDict([('max_depth', 71), ('max_features', 452), ('min_samples_leaf', 4), ('n_estimators', 700)])\n",
        "#Mejor score de validación cruzada (accuracy): 0.7149265905383361\n",
        "\n",
        "#Mejores parámetros: OrderedDict([('max_depth', 427), ('max_features', 977), ('min_samples_leaf', 2), ('n_estimators', 900)])\n",
        "#Mejor score de validación cruzada (accuracy): 0.7229812398042414"
      ]
    },
    {
      "cell_type": "code",
      "execution_count": 30,
      "metadata": {
        "scrolled": true,
        "colab": {
          "base_uri": "https://localhost:8080/"
        },
        "id": "appJ_L2qoeUf",
        "outputId": "3d7d8f50-0fcd-493b-a349-00be93940480"
      },
      "outputs": [
        {
          "output_type": "stream",
          "name": "stdout",
          "text": [
            "Accuracy promedio en train CV=2: 0.7229812398042414\n",
            "Accuracy del modelo en los datos de prueba: 75.0207%\n",
            "Profunidad promedio de los árboles:  200.54777777777778\n",
            "Promedio de nodos terminales:  1126.9933333333333\n"
          ]
        }
      ],
      "source": [
        "####\n",
        "# Crear el modelo con los mejores parámetros encontrados.\n",
        "modelo = RandomForestClassifier(random_state=0, max_depth=427, max_features=977, min_samples_leaf=2, n_estimators=900)\n",
        "\n",
        "# Aplicar validación cruzada y calcular métrica de desempeño del modelo\n",
        "cv_scores = cross_val_score(modelo, X_train_vec_stop, y_train, cv=2, scoring='accuracy')\n",
        "accuracy_mean = cv_scores.mean()\n",
        "print(\"Accuracy promedio en train CV=2:\", accuracy_mean)\n",
        "\n",
        "modelo.fit(X_train_vec_stop, y_train)\n",
        "y_pred_test = modelo.predict(X_test_vec_stop)\n",
        "test_accuracy = accuracy_score(y_test, y_pred_test)\n",
        "\n",
        "print(f\"Accuracy del modelo en los datos de prueba: {test_accuracy}\")\n",
        "\n",
        "# Estimar la complejidad del modelo creado\n",
        "trees = modelo.estimators_\n",
        "depths = [tree.tree_.max_depth for tree in trees]\n",
        "average_depth = sum(depths) / len(depths)\n",
        "print(\"Profunidad promedio de los árboles: \", average_depth)\n",
        "\n",
        "leaf_counts = [tree.tree_.n_leaves for tree in trees]\n",
        "average_leaf_count = sum(leaf_counts) / len(leaf_counts)\n",
        "\n",
        "print(\"Promedio de nodos terminales: \", average_leaf_count)\n",
        "\n",
        "# Guardar resultados\n",
        "averages_accuracy.append(test_accuracy)\n",
        "averages_depth.append(average_depth)\n",
        "averages_leaf.append(average_leaf_count)\n",
        "models_name.append('Delete stopwords')"
      ]
    },
    {
      "cell_type": "markdown",
      "metadata": {
        "id": "DeY1SvLhoeUg"
      },
      "source": [
        "**Descripción del procedimiento**\n",
        "> + Se realiza la transformación de los datos de entrenamiento y pruebas eliminando las *'stopwords'* con la función *CountVectorizer*, y se presentan las palabras eliminadas.  \n",
        "> + Se calibra el modelo usando la misma técnica del punto anterior, y los nuevos predictores. Los mejores parámetros encontrados fueron: max_depth=427, max_features=977, min_samples_leaf=2, n_estimators=900\n",
        "> + Se crea el nuevo modelo con estos parámetros y se entrena el modelo usando cross validation, se obtienen las predicciones en los datos de pruebas, y se calcula la exactitud de estas.\n",
        "> + Se realiza la estimación de la profundidad y el número de nodos promedio de los árboles, encontrando que se crea un modelo de árboles menos complejo que el modelo anterior con una profundidad promedio de 200 y más de 1100 nodos terminales.\n",
        "\n",
        "**Conclusiones**\n",
        "> + La transformación de los datos crea 11777 predictores; este es un número menor que la transformación obtenida sin eliminar *'stopwords'*, lo que contribuye a disminuir la complejidad del modelo de predicción.\n",
        "> + La métrica de desempeño del modelo muestra una exactitud de 0.7502 menor a la encontrada con el modelo sin elimnar *'stopwords'*, esto podría deberse a que en textos cortos como lo son los tweets las *'stopwords'* contendrían información importante. Llama la atención que se eliminaron palabras que representan números, y algunas relacionadas con el verbo 'to be' y 'can', entre otras que podrían contener información relacionada con el sentimiento.\n",
        "> + Por otro lado los nuevos preditores permiten encontrar una calibración que  disminuye la complejidad del modelo, generando árboles con menor profundidad y menor número de nodos terminales en comparación con el modelo de transformación sin eliminación de *'stopwords'*.\n",
        "> + Llama la atención que la métrica de desemepeño es mejor en los datos de prueba que en los de entrenamiento, pudiendo este ser un indicador indirecto de que el modelo no se esta sobreajustando.\n"
      ]
    },
    {
      "cell_type": "markdown",
      "metadata": {
        "id": "s9gbjBheoeUg"
      },
      "source": [
        "### Punto 3 - Lematización con verbos\n",
        "\n",
        "En la celda 3 creen un modelo de random forest con la libreria sklearn que prediga el sentimiento de los tweets usando los set de entrenamiento y test definidos anteriormente. Usen la función CountVectorizer, **lematizen el texto con verbos** y presenten el desempeño del modelo con la métrica del acurracy.\n",
        "\n",
        "Recuerden que el preprocesamiento que se haga sobre los datos de entrenamiento  (*.fit_transform()*) deben ser aplicado al set de test (*.transform()*)."
      ]
    },
    {
      "cell_type": "code",
      "execution_count": 20,
      "metadata": {
        "colab": {
          "base_uri": "https://localhost:8080/"
        },
        "id": "Scn4M0WDoeUg",
        "outputId": "5f8edca3-08b8-4431-ab9d-97b1b92a944b"
      },
      "outputs": [
        {
          "output_type": "stream",
          "name": "stderr",
          "text": [
            "[nltk_data] Downloading package punkt to /root/nltk_data...\n",
            "[nltk_data]   Unzipping tokenizers/punkt.zip.\n",
            "[nltk_data] Downloading package wordnet to /root/nltk_data...\n"
          ]
        },
        {
          "output_type": "stream",
          "name": "stdout",
          "text": [
            "X_train_vec_2 Shape: (9808, 12060)\n"
          ]
        }
      ],
      "source": [
        "# Celda 3\n",
        "nltk.download('punkt')\n",
        "nltk.download('wordnet')\n",
        "\n",
        "lematizador = WordNetLemmatizer()\n",
        "\n",
        "def lematizar_texto(texto):\n",
        "    return [lematizador.lemmatize(word, pos='v') for word in word_tokenize(texto)]\n",
        "\n",
        "vec_lemat = CountVectorizer(tokenizer=lematizar_texto)\n",
        "X_train_vec_2 = vec_lemat.fit_transform(X_train)\n",
        "X_test_vec_2 = vec_lemat.transform(X_test)\n",
        "\n",
        "print('X_train_vec_2 Shape:', X_train_vec_2.shape)"
      ]
    },
    {
      "cell_type": "code",
      "execution_count": 21,
      "metadata": {
        "id": "A4viMwkioeUg"
      },
      "outputs": [],
      "source": [
        "## Calibrar el modelo con los nuevos predictores\n",
        "#calibrar_modelo = CalibrarModelo_BYS(X_train_vec_2, y_train, n_iter=20)\n",
        "\n",
        "#Mejores parámetros: OrderedDict([('max_depth', 487), ('max_features', 1000), ('min_samples_leaf', 15), ('n_estimators', 3000)])\n",
        "#Mejor score de validación cruzada (accuracy): 0.7201264274061989\n",
        "\n",
        "#Mejores parámetros: OrderedDict([('max_depth', 350), ('max_features', 323), ('min_samples_leaf', 1), ('n_estimators', 600)])\n",
        "#Mejor score de validación cruzada (accuracy): 0.7572389885807504"
      ]
    },
    {
      "cell_type": "code",
      "execution_count": 23,
      "metadata": {
        "colab": {
          "base_uri": "https://localhost:8080/"
        },
        "id": "ph9e_CcToeUg",
        "outputId": "57d66f2b-98f7-4b0e-eb8b-5278c0a8e4b1"
      },
      "outputs": [
        {
          "output_type": "stream",
          "name": "stdout",
          "text": [
            "Accuracy promedio en train CV=2: 0.7572389885807504\n",
            "Accuracy del modelo en los datos de prueba: 78.5389%\n",
            "Profunidad promedio de los árboles:  123.04333333333334\n",
            "Promedio de nodos terminales:  2895.4166666666665\n"
          ]
        }
      ],
      "source": [
        "####\n",
        "# Crear el modelo con los mejores parámetros encontrados.\n",
        "modelo = RandomForestClassifier(random_state=0, max_depth=350, max_features=323, min_samples_leaf=1, n_estimators=600)\n",
        "\n",
        "# Aplicar validación cruzada y calcular métrica de desempeño del modelo\n",
        "cv_scores = cross_val_score(modelo, X_train_vec_2, y_train, cv=2, scoring='accuracy')\n",
        "accuracy_mean = cv_scores.mean()\n",
        "print(\"Accuracy promedio en train CV=2:\", accuracy_mean)\n",
        "\n",
        "modelo.fit(X_train_vec_2, y_train)\n",
        "y_pred_test = modelo.predict(X_test_vec_2)\n",
        "test_accuracy = accuracy_score(y_test, y_pred_test)\n",
        "\n",
        "print(f\"Accuracy del modelo en los datos de prueba: {test_accuracy}\")\n",
        "\n",
        "# Estimar la complejidad del modelo creado\n",
        "trees = modelo.estimators_\n",
        "depths = [tree.tree_.max_depth for tree in trees]\n",
        "average_depth = sum(depths) / len(depths)\n",
        "print(\"Profunidad promedio de los árboles: \", average_depth)\n",
        "\n",
        "leaf_counts = [tree.tree_.n_leaves for tree in trees]\n",
        "average_leaf_count = sum(leaf_counts) / len(leaf_counts)\n",
        "\n",
        "print(\"Promedio de nodos terminales: \", average_leaf_count)\n",
        "\n",
        "# Guardar resultados\n",
        "averages_accuracy.append(test_accuracy)\n",
        "averages_depth.append(average_depth)\n",
        "averages_leaf.append(average_leaf_count)\n",
        "models_name.append('Lemmatizer')"
      ]
    },
    {
      "cell_type": "markdown",
      "metadata": {
        "id": "V-o0gu1YoeUh"
      },
      "source": [
        "**Descripción del procedimiento**\n",
        "> + Se realiza la transformación de los datos de entrenamiento y pruebas lematizndo el texto con verbos con la función *CountVectorizer* y el metodo *WordNetLemmatizer*.  \n",
        "> + Se calibra el modelo usando la misma técnica del punto anterior, y los nuevos predictores. Los mejores parámetros encontrados fueron: max_depth=350, max_features=323, min_samples_leaf=1, n_estimators=600\n",
        "> + Se crea el nuevo modelo con estos parámetros y se entrena el modelo usando cross validation, se obtienen las predicciones en los datos de pruebas, y se calcula la exactitud de estas.\n",
        "> + Se realiza la estimación de la profundidad y el número de nodos promedio de los árboles, encontrando que se crea un modelo de árboles menos complejo que el modelo anterior con una profundidad promedio cercana a 123 y cerca de 2900 nodos terminales.  \n",
        "\n",
        "**Conclusiones**\n",
        "> + La transformación de los datos crea 12060 predictores; siendo este un numero similar que la transformación obtenida sin eliminar *'stopwords'*.\n",
        "> + El desempeño predictivo de este modelo medido a través del Accuracy es de 0.785389, indicando que el modelo acierta en el 78% de sus predicciones, siendo este un desempeño ligeramente superior al obtenido en el modelo base del punto 1 y superior al modelo de eliminación de *'stopwords'*.\n",
        "> + Al igual que en los modelos anteriores la comparación entre las predicciones de entrenamiento y prueba no evidencian que el modelo se este sub o sobreajustando."
      ]
    },
    {
      "cell_type": "markdown",
      "metadata": {
        "id": "XNXFpVu2oeUi"
      },
      "source": [
        "### Punto 4 - Multiples técnicas\n",
        "\n",
        "En la celda 4 creen un modelo de random forest con la libreria sklearn que prediga el sentimiento de los tweets usando los set de entrenamiento y test definidos anteriormente. Usen la función **CountVectorizer, eliminen stopwords, lematizen el texto con verbos** y presenten el desempeño del modelo con la métrica del acurracy.\n",
        "\n",
        "Recuerden que el preprocesamiento que se haga sobre los datos de entrenamiento  (*.fit_transform()*) deben ser aplicado al set de test (*.transform()*)."
      ]
    },
    {
      "cell_type": "code",
      "execution_count": 28,
      "metadata": {
        "colab": {
          "base_uri": "https://localhost:8080/"
        },
        "id": "O65fkG6HoeUi",
        "outputId": "e085abe9-03fe-4723-e725-88269b7f666c"
      },
      "outputs": [
        {
          "output_type": "stream",
          "name": "stdout",
          "text": [
            "X_train_vec_4 Shape: (9808, 11798)\n"
          ]
        }
      ],
      "source": [
        "# Celda 4\n",
        "vec_lemat_4 = CountVectorizer(stop_words='english', tokenizer=lematizar_texto)\n",
        "X_train_vec_4 = vec_lemat_4.fit_transform(X_train)\n",
        "X_test_vec_4 = vec_lemat_4.transform(X_test)\n",
        "print('X_train_vec_4 Shape:', X_train_vec_4.shape)"
      ]
    },
    {
      "cell_type": "code",
      "execution_count": 25,
      "metadata": {
        "id": "DjU61cXKoeUj"
      },
      "outputs": [],
      "source": [
        "## Calibrar el modelo con los nuevos predictores\n",
        "#calibrar_modelo = CalibrarModelo_BYS(X_train_vec_4, y_train, n_iter=20)\n",
        "\n",
        "#Mejores parámetros: OrderedDict([('max_depth', 500), ('max_features', 482), ('min_samples_leaf', 1), ('n_estimators', 3000)])\n",
        "#Mejor score de validación cruzada (accuracy): 0.7491843393148451\n",
        "\n",
        "#Mejores parámetros: OrderedDict([('max_depth', 346), ('max_features', 691), ('min_samples_leaf', 2), ('n_estimators', 1000)])\n",
        "#Mejor score de validación cruzada (accuracy): 0.75163132137031\n"
      ]
    },
    {
      "cell_type": "code",
      "execution_count": 31,
      "metadata": {
        "colab": {
          "base_uri": "https://localhost:8080/"
        },
        "id": "kuaxf4c3oeUj",
        "outputId": "25248f8c-bc75-4c9b-dc72-48831792e7a4"
      },
      "outputs": [
        {
          "output_type": "stream",
          "name": "stdout",
          "text": [
            "Accuracy promedio en train CV=2: 0.7493882544861338\n",
            "Accuracy del modelo en los datos de prueba: 76.7384%\n",
            "Profunidad promedio de los árboles:  93.374\n",
            "Promedio de nodos terminales:  1033.04\n"
          ]
        }
      ],
      "source": [
        "####\n",
        "# Crear el modelo con los mejores parámetros encontrados.\n",
        "modelo = RandomForestClassifier(random_state=0, max_depth=346, max_features=691, min_samples_leaf=2, n_estimators=1000)\n",
        "\n",
        "# Aplicar validación cruzada y calcular métrica de desempeño del modelo\n",
        "cv_scores = cross_val_score(modelo, X_train_vec_4, y_train, cv=2, scoring='accuracy')\n",
        "accuracy_mean = cv_scores.mean()\n",
        "print(\"Accuracy promedio en train CV=2:\", accuracy_mean)\n",
        "\n",
        "modelo.fit(X_train_vec_4, y_train)\n",
        "y_pred_test = modelo.predict(X_test_vec_4)\n",
        "test_accuracy = accuracy_score(y_test, y_pred_test)\n",
        "\n",
        "print(f\"Accuracy del modelo en los datos de prueba: {test_accuracy}\")\n",
        "\n",
        "# Estimar la complejidad del modelo creado\n",
        "trees = modelo.estimators_\n",
        "depths = [tree.tree_.max_depth for tree in trees]\n",
        "average_depth = sum(depths) / len(depths)\n",
        "print(\"Profunidad promedio de los árboles: \", average_depth)\n",
        "\n",
        "leaf_counts = [tree.tree_.n_leaves for tree in trees]\n",
        "average_leaf_count = sum(leaf_counts) / len(leaf_counts)\n",
        "\n",
        "print(\"Promedio de nodos terminales: \", average_leaf_count)\n",
        "\n",
        "# Guardar resultados\n",
        "averages_accuracy.append(test_accuracy)\n",
        "averages_depth.append(average_depth)\n",
        "averages_leaf.append(average_leaf_count)\n",
        "models_name.append('Multiple Tech')"
      ]
    },
    {
      "cell_type": "markdown",
      "source": [
        "**Descripción del procedimiento**\n",
        "> + Se realiza la transformación de los datos de entrenamiento y pruebas lematizndo el texto con verbos con la función *CountVectorizer* y el metodo *WordNetLemmatizer*.  \n",
        "> + Se calibra el modelo usando la misma técnica del punto anterior, y los nuevos predictores. Los mejores parámetros encontrados fueron: max_depth=346, max_features=691, min_samples_leaf=2, n_estimators=1000\n",
        "> + Se crea el nuevo modelo con estos parámetros y se entrena el modelo usando cross validation, se obtienen las predicciones en los datos de pruebas, y se calcula la exactitud de estas.\n",
        "> + Se realiza la estimación de la profundidad y el número de nodos promedio de los árboles, encontrando que se crea un modelo de árboles menos complejo que el modelo anterior con una profundidad promedio de 93 y cerca de 1000 nodos terminales.  \n",
        "\n",
        "**Conclusiones**\n",
        "> + La transformación de los datos crea 11798 predictores; siendo este un numero similar que la transformación obtenida sin eliminar *'stopwords'*.\n",
        "> + El desempeño predictivo de este modelo medido a través del Accuracy es de 0.767384, indicando que el modelo acierta en el 76% de sus predicciones, siendo este un desempeño ligeramente superior al obtenido con modelo de eliminación de *'stopwords'*, e inferior al obtenido con el modelo de lematización."
      ],
      "metadata": {
        "id": "75HPZ_m5ylyq"
      }
    },
    {
      "cell_type": "markdown",
      "metadata": {
        "id": "XOu8S0sEoeUy"
      },
      "source": [
        "### Punto 5 - Comparación y análisis de resultados\n",
        "\n",
        "En la celda 5 comparen los resultados obtenidos de los diferentes modelos (random forest) y comenten las ventajas del mejor modelo y las desventajas del modelo con el menor desempeño."
      ]
    },
    {
      "cell_type": "code",
      "execution_count": 47,
      "metadata": {
        "scrolled": true,
        "colab": {
          "base_uri": "https://localhost:8080/",
          "height": 507
        },
        "id": "r2peiO1GoeUy",
        "outputId": "2d02f47c-9681-410c-8280-b5dac14de5a0"
      },
      "outputs": [
        {
          "output_type": "display_data",
          "data": {
            "text/plain": [
              "<Figure size 1200x500 with 1 Axes>"
            ],
            "image/png": "[encoded data removed]"
          },
          "metadata": {}
        }
      ],
      "source": [
        "# Celda 5\n",
        "def compararModelos(models, data, score):\n",
        "    better = max(data)\n",
        "    colores = ['#87CEEB' if value != better else '#6B8E23' for value in data]\n",
        "    fig, ax = plt.subplots(figsize=(12,5))\n",
        "    bar = ax.bar(models, data, linewidth=0.8, color=colores, edgecolor=\"silver\")\n",
        "    ax.set_title(\"Comparación del desempeño de los modelos\")\n",
        "    ax.set_xlabel(\"Descripción del modelo\")\n",
        "    ax.set_ylabel(score)\n",
        "    bar_labels = [f'{value:.3f}' for value in data]\n",
        "    ax.bar_label(bar, bar_labels, label_type='center', padding=20)\n",
        "    ax.spines[\"top\"].set_visible(False)\n",
        "    ax.spines[\"right\"].set_visible(False)\n",
        "    ax.set_facecolor(\"whitesmoke\")\n",
        "    ax.spines[\"left\"].set_color(\"gray\")\n",
        "    ax.spines[\"bottom\"].set_color(\"gray\")\n",
        "    ax.tick_params(axis='x', labelsize=8)\n",
        "    plt.gca().yaxis.set_major_formatter('{:,.5f}'.format)\n",
        "    plt.tight_layout()\n",
        "    plt.show()\n",
        "\n",
        "modelos = models_name\n",
        "accuracys = averages_accuracy\n",
        "\n",
        "compararModelos(modelos, accuracys, \"Accuracy\")"
      ]
    },
    {
      "cell_type": "markdown",
      "metadata": {
        "id": "5TTxAcbtoeUz"
      },
      "source": [
        "**Análisis y conclusiones**\n",
        "> + Al comparar el poder predictivo de los modelos probados con la métrica *Accuracy* el menor desempeño fue obtenido por el modelo que elimina las *'stopwords'* usando el método incluido en 'CountVectorizer', es posible que las palabras asociadas a cantidades y los verbos 'to be' y 'can' que fueron eliminadas en el contexto del dataset analizado puedan contener información valiasa para la clasificación del sentimiento, y por ello su eliminación disminuye el porder precitivo del modelo.\n",
        "> +  Por otro lado el mayor desempeño se logro con el modelo de 'lematización', mientras que el modelo que combina todas las técnicas pierde poder predictivo, probablemente por lo mencionado en el punto anterior.\n",
        "> +  Cualquiera de las técnicas de procesamiento de lenguaje natural probadas conlleva a la construcción un modelo predictivo muy complejo con una gran cantidad de predictores, y en consecuencia árboles densos, muy profundos y con cientos de nodos terminales.\n",
        "\n",
        "**Ventajas y desventajas**\n",
        "> **Eliminación de stopwords:**\n",
        "> > **Ventajas:** A través de la eliminación de stopwords se eliminan palabras muy repetitivas y con poca información  predictiva, como conectores y artículos, por lo que el análisis se limita solo a aquellas palabras con alta mayor información explicativa.\n",
        "> >\n",
        "> > **Desventajas:** En algunos contextos existen stopwords que pueden brindar información predictiva para el análisis de texto y la eliminación de las mismas puede hacer que se pierda contexto o significado de frases. Por ejemplo, en este contexto, los tweets tienden a ser cortos, por lo que la eliminación de las stopwords hacen que sean muy pocas las palabras extraídas de cada tweet.\n",
        "\n",
        "> **Lematización:**\n",
        "> > **Ventajas:** Asimismo, a través de la lematización de palabras se transforman los verbos a su estructura de diccionario, lo que hace que todas las distintas formas gramaticales de los verbos se tomen en cuenta como una misma, esto hace que se reduzca la dimensionalidad y facilita la agrupación de palabras relacionadas. En este contexto puntual fue un buen ejercicio lematizar para reducir la dimensionalidad y el ruido generado por las distintas formas gramaticales de los verbos que no brindan información para la predicción de sentimientos en los tweets\n",
        "> >\n",
        "> > **Desventajas:** Al lematizar se pierde la estructura gramatical original de las palabras lematizadas (en este caso los verbos), en casos donde la morfología de las palabras es importante esto puede llevar a perdida de contexto y llevar a predicciones erróneas por parte del algoritmo. El proceso de lematización es más costoso computacionalmente, ya que emplea diccionarios pre cargados en las librerías para generar el homólogo de diccionario de cada verbo, lo que implica una búsqueda exhaustiva de cada verbo en el diccionario. Esto añade un paso adicional a los demás algoritmos y es uno de los más costosos computacionalmente, incluso por encima del stemming.\n"
      ]
    }
  ],
  "metadata": {
    "kernelspec": {
      "display_name": "Python 3 (ipykernel)",
      "language": "python",
      "name": "python3"
    },
    "language_info": {
      "codemirror_mode": {
        "name": "ipython",
        "version": 3
      },
      "file_extension": ".py",
      "mimetype": "text/x-python",
      "name": "python",
      "nbconvert_exporter": "python",
      "pygments_lexer": "ipython3",
      "version": "3.11.7"
    },
    "colab": {
      "provenance": []
    }
  },
  "nbformat": 4,
  "nbformat_minor": 0
}